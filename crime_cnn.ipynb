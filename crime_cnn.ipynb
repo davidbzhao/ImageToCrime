{
 "cells": [
  {
   "cell_type": "markdown",
   "metadata": {},
   "source": [
    "## 1. Import modules"
   ]
  },
  {
   "cell_type": "code",
   "execution_count": 12,
   "metadata": {
    "collapsed": true
   },
   "outputs": [],
   "source": [
    "from shutil import copyfile\n",
    "import numpy as np\n",
    "import pandas as pd\n",
    "from PIL import Image\n",
    "import csv\n",
    "import tensorflow as tf\n",
    "import matplotlib.pyplot as plt\n",
    "import sqlite3 as sql\n",
    "import json\n",
    "import os\n",
    "import pickle"
   ]
  },
  {
   "cell_type": "markdown",
   "metadata": {},
   "source": [
    "## 2. Preprocess  data\n",
    "### 2.1 Extract crime data"
   ]
  },
  {
   "cell_type": "code",
   "execution_count": null,
   "metadata": {},
   "outputs": [],
   "source": [
    "crime_data_filepath = 'data/Chicago_Crimes_2012_to_2017.csv'\n",
    "raw_crime_data = pd.read_csv(crime_data_filepath)\n",
    "\n",
    "def number_of_crimes_between(lat1, long1, lat2, long2):\n",
    "    if lat1 > lat2:\n",
    "        lat1, lat2 = lat2, lat1\n",
    "    if long1 > long2:\n",
    "        long1, long2 = long2, long1\n",
    "    return raw_crime_data[(raw_crime_data['Latitude'].between(lat1, lat2)) & \n",
    "                   (raw_crime_data['Longitude'].between(long1, long2))]['ID'].count()"
   ]
  },
  {
   "cell_type": "markdown",
   "metadata": {},
   "source": [
    "### 2.2 Extract 2x2-max-pooled, flattened 320x320 vector for each image"
   ]
  },
  {
   "cell_type": "code",
   "execution_count": null,
   "metadata": {
    "collapsed": true
   },
   "outputs": [],
   "source": [
    "def extract_half_size_image(image_filepath):\n",
    "    im_array = []\n",
    "    try:\n",
    "        with Image.open(image_filepath, 'r').convert('L') as im:\n",
    "            # Extract pixel column vector\n",
    "            pix = im.load()\n",
    "            for i in range(0, im.size[0], 2):\n",
    "                for j in range(0, im.size[1], 2):\n",
    "                    max_pixel = np.max([pix[i,j], pix[i+1,j], pix[i,j+1], pix[i+1,j+1]])\n",
    "                    im_array.append(int(max_pixel))\n",
    "    except FileNotFoundError:\n",
    "        print('File at images/%s not found' % (row[0]))\n",
    "        return None\n",
    "    return im_array            "
   ]
  },
  {
   "cell_type": "markdown",
   "metadata": {},
   "source": [
    "### 2.3 Store labeled data in local SQL file"
   ]
  },
  {
   "cell_type": "code",
   "execution_count": null,
   "metadata": {
    "collapsed": true
   },
   "outputs": [],
   "source": [
    "# Change coordinate txt to csv\n",
    "copyfile('image_coords.txt', 'image_coords.csv')\n",
    "\n",
    "# Generate labeled data as (image pixels, num crimes)\n",
    "conn = sql.connect('input_data.db')\n",
    "c = conn.cursor()\n",
    "c.execute('CREATE TABLE IF NOT EXISTS images (pixels text, crimes text)')\n",
    "\n",
    "cur_row = '*'\n",
    "with open('image_coords.csv', 'r') as coord_file:\n",
    "    reader = csv.reader(coord_file)\n",
    "    cnt = 0\n",
    "    commit_frequency = 10\n",
    "    for row in reader:        \n",
    "        cnt += 1\n",
    "        # Try opening image at filepath specified\n",
    "        image_filepath = 'images/' + row[0]\n",
    "        \n",
    "        # Skip if image is just of water\n",
    "        try:\n",
    "            if os.stat(image_filepath).st_size < 3500:\n",
    "                continue\n",
    "        except FileNotFoundError:\n",
    "            continue\n",
    "        \n",
    "        # Print progress\n",
    "        if '_' in row[0] and row[0][:row[0].index('_')] != cur_row:\n",
    "            cur_row = row[0][:row[0].index('_')]\n",
    "            print('Current row: %s' % (cur_row))\n",
    "        print(cnt, end=',')\n",
    "        \n",
    "#         temporary: skip to 60\n",
    "        if int(cur_row) < 60:\n",
    "            continue\n",
    "        \n",
    "        # Extract pixels\n",
    "        pixels = extract_half_size_image(image_filepath)\n",
    "        if pixels is None: continue\n",
    "        \n",
    "        # Get number of crimes in bounds\n",
    "        lat1, long1, lat2, long2 = np.array(row[1:]).astype(np.float64)\n",
    "        num_crimes_in_area = number_of_crimes_between(lat1, long1, lat2, long2)\n",
    "        c.execute('INSERT INTO images VALUES (?, ?)', (json.dumps(pixels), str(num_crimes_in_area)))\n",
    "        \n",
    "        if cnt % commit_frequency == 0:\n",
    "            conn.commit()\n",
    "    conn.commit()\n",
    "conn.close()"
   ]
  },
  {
   "cell_type": "markdown",
   "metadata": {},
   "source": [
    "## 3. Set up CNN architecture"
   ]
  },
  {
   "cell_type": "code",
   "execution_count": 13,
   "metadata": {
    "collapsed": true
   },
   "outputs": [],
   "source": [
    "def weight_variable(shape):\n",
    "    return tf.Variable(tf.truncated_normal(shape, stddev=0.1))\n",
    "\n",
    "def bias_variable(shape):\n",
    "    return tf.Variable(tf.constant(0.01, shape=shape))"
   ]
  },
  {
   "cell_type": "code",
   "execution_count": 14,
   "metadata": {
    "collapsed": true
   },
   "outputs": [],
   "source": [
    "def conv2d(x, W, stride_size=2):\n",
    "    return tf.nn.conv2d(x, W, strides=[1,stride_size,stride_size,1], padding='SAME')\n",
    "\n",
    "def max_pool_2x2(x):\n",
    "    return tf.nn.max_pool(x, ksize=[1,2,2,1], strides=[1,2,2,1], padding='SAME')"
   ]
  },
  {
   "cell_type": "markdown",
   "metadata": {},
   "source": [
    "### 3.1 Define convolutional layers"
   ]
  },
  {
   "cell_type": "code",
   "execution_count": 15,
   "metadata": {},
   "outputs": [
    {
     "name": "stdout",
     "output_type": "stream",
     "text": [
      "h_pool1 (?, 40, 40, 32)\n",
      "h_pool2 (?, 5, 5, 64)\n"
     ]
    }
   ],
   "source": [
    "WIDTH = 320 # pixel width of each image\n",
    "HEIGHT = 320 # pixel height of each image\n",
    "\n",
    "# with tf.device('/gpu:0'):\n",
    "x = tf.placeholder(tf.float32, shape=[None, WIDTH*HEIGHT]) # input is flattened image\n",
    "y = tf.placeholder(tf.float32, shape=[None, 1]) # output is one value\n",
    "\n",
    "x_image = tf.reshape(x, [-1, WIDTH, HEIGHT, 1])\n",
    "\n",
    "# Weights and biases between input and hidden layer 1\n",
    "W_conv1 = weight_variable([5, 5, 1, 32])\n",
    "b_conv1 = bias_variable([32])\n",
    "\n",
    "# Hidden layer 1\n",
    "h_conv1 = tf.nn.relu(conv2d(x_image, W_conv1, stride_size=4) + b_conv1)\n",
    "# Max pooled hidden layer 1\n",
    "h_pool1 = max_pool_2x2(h_conv1)\n",
    "\n",
    "print('h_pool1', h_pool1.shape)\n",
    "\n",
    "# Weights and biases between hidden layer 1 and 2\n",
    "W_conv2 = weight_variable([5, 5, 32, 64])\n",
    "b_conv2 = weight_variable([64])\n",
    "\n",
    "# Hidden layer 2\n",
    "h_conv2 = tf.nn.relu(conv2d(h_pool1, W_conv2, stride_size=4) + b_conv2)\n",
    "# Max pooled hidden layer 2\n",
    "h_pool2 = max_pool_2x2(h_conv2)\n",
    "\n",
    "print('h_pool2', h_pool2.shape)\n",
    "\n",
    "# # Weights and biases between hidden layer 2 and 3\n",
    "# W_conv3 = weight_variable([5, 5, 64, 128])\n",
    "# b_conv3 = bias_variable([128])\n",
    "\n",
    "# # Hidden layer 3\n",
    "# h_conv3 = tf.nn.relu(conv2d(h_pool2, W_conv3) + b_conv3)\n",
    "# # Max pooled hidden layer 3\n",
    "# h_pool3 = max_pool_2x2(h_conv3) # dim is 5x5x128\n",
    "\n",
    "# print('h_pool3', h_pool3.shape)"
   ]
  },
  {
   "cell_type": "markdown",
   "metadata": {},
   "source": [
    "### 3.2 Define dense layers"
   ]
  },
  {
   "cell_type": "code",
   "execution_count": 16,
   "metadata": {
    "collapsed": true
   },
   "outputs": [],
   "source": [
    "# with tf.device('/gpu:0'):\n",
    "# Dense layer 1\n",
    "W_d1 = weight_variable([5*5*64, 512])\n",
    "b_d1 = weight_variable([512])\n",
    "\n",
    "h_pool2_flat = tf.reshape(h_pool2, [-1, 5*5*64])\n",
    "# h_pool3_flat = tf.reshape(h_pool3, [-1, 3*3*128])\n",
    "h_d1 = tf.nn.relu(tf.matmul(h_pool2_flat, W_d1) + b_d1)\n",
    "\n",
    "keep_prob = tf.placeholder(tf.float32)\n",
    "h_d1_drop = tf.nn.dropout(h_d1, keep_prob)\n",
    "\n",
    "# Dense layer 2\n",
    "W_d2 = weight_variable([512, 1])\n",
    "b_d2 = bias_variable([1])\n",
    "\n",
    "# Output\n",
    "y_pred = tf.matmul(h_d1_drop, W_d2) + b_d2"
   ]
  },
  {
   "cell_type": "markdown",
   "metadata": {},
   "source": [
    "### 3.3. Define loss and optimization functions"
   ]
  },
  {
   "cell_type": "code",
   "execution_count": 24,
   "metadata": {
    "collapsed": true
   },
   "outputs": [],
   "source": [
    "mse = tf.losses.mean_squared_error(y, y_pred)\n",
    "train_step = tf.train.GradientDescentOptimizer(1e-10).minimize(mse)\n",
    "init = tf.global_variables_initializer()\n",
    "with tf.device('/device:CPU:0'):\n",
    "    saver = tf.train.Saver()"
   ]
  },
  {
   "cell_type": "markdown",
   "metadata": {},
   "source": [
    "## 4. Partition data\n",
    "### 4.1 Retrieve data from database"
   ]
  },
  {
   "cell_type": "code",
   "execution_count": null,
   "metadata": {
    "collapsed": true
   },
   "outputs": [],
   "source": [
    "conn = sql.connect('input_data.db')\n",
    "c = conn.cursor()\n",
    "\n",
    "# Partition data\n",
    "c.execute('SELECT COUNT(*) FROM images')\n",
    "num_rows = c.fetchone()[0]\n",
    "all_row_ids = np.arange(num_rows) + 1\n",
    "np.random.shuffle(all_row_ids)\n",
    "train_row_ids = all_row_ids[:int(0.8*num_rows)]\n",
    "test_row_ids = all_row_ids[int(0.8*num_rows):]\n",
    "\n",
    "# Store training data in memory\n",
    "train_X = []\n",
    "train_Y = []\n",
    "for row_id in train_row_ids:\n",
    "    c.execute('SELECT * FROM images WHERE rowid=?', [int(row_id)])\n",
    "    row = c.fetchone()\n",
    "    if row is None:\n",
    "        print('row_id %d is not in table' % (row_id))\n",
    "    pixels, crimes = row\n",
    "    pixels = json.loads(pixels)\n",
    "#     pixels = np.array(pixels).reshape([-1, len(pixels)])\n",
    "    crimes = np.array([int(crimes)])\n",
    "    train_X.append(pixels)\n",
    "    train_Y.append(crimes)\n",
    "    \n",
    "# Store testing data in memory\n",
    "test_X = []\n",
    "test_Y = []\n",
    "for row_id in test_row_ids:\n",
    "    c.execute('SELECT * FROM images WHERE rowid=?', [int(row_id)])\n",
    "    row = c.fetchone()\n",
    "    if row is None:\n",
    "        print('row_id %d is not in table' % (row_id))\n",
    "    pixels, crimes = row\n",
    "    pixels = json.loads(pixels)\n",
    "#     pixels = np.array(pixels).reshape([-1, len(pixels)])\n",
    "    crimes = np.array([int(crimes)])\n",
    "    test_X.append(pixels)\n",
    "    test_Y.append(crimes)\n",
    "\n",
    "conn.close()"
   ]
  },
  {
   "cell_type": "markdown",
   "metadata": {},
   "source": [
    "### 4.2 Pickle training and test data arrays"
   ]
  },
  {
   "cell_type": "code",
   "execution_count": null,
   "metadata": {
    "collapsed": true
   },
   "outputs": [],
   "source": [
    "pickle.dump(train_X, open('./pickles/train_x.pickle','wb'))\n",
    "pickle.dump(train_Y, open('./pickles/train_y.pickle','wb'))\n",
    "pickle.dump(test_X, open('./pickles/test_x.pickle','wb'))\n",
    "pickle.dump(test_Y, open('./pickles/test_y.pickle','wb'))"
   ]
  },
  {
   "cell_type": "code",
   "execution_count": 18,
   "metadata": {
    "collapsed": true
   },
   "outputs": [],
   "source": [
    "train_X = pickle.load(open('./pickles/train_x.pickle','rb'))\n",
    "train_Y = pickle.load(open('./pickles/train_y.pickle','rb'))"
   ]
  },
  {
   "cell_type": "code",
   "execution_count": 19,
   "metadata": {
    "collapsed": true
   },
   "outputs": [],
   "source": [
    "test_X = pickle.load(open('./pickles/test_x.pickle','rb'))\n",
    "test_Y = pickle.load(open('./pickles/test_y.pickle','rb'))"
   ]
  },
  {
   "cell_type": "markdown",
   "metadata": {},
   "source": [
    "## 5. Train CNN with GD optimizer with MSE"
   ]
  },
  {
   "cell_type": "code",
   "execution_count": 42,
   "metadata": {
    "collapsed": true
   },
   "outputs": [
    {
     "name": "stdout",
     "output_type": "stream",
     "text": [
      "INFO:tensorflow:Restoring parameters from ./tmp/saved_model.ckpt\n",
      "epoch 0\n",
      "0,1,2,3,4,5,6,7,8,9,10,11,12,13,14,15,16,17,18,19,20,21,22,23,24,25,26,27,28,29,30,31,32,33,34,35,36,37,38,39,40,41,42,43,44,45,46,47,48,49,50,51,52,53,54,55,56,57,58,59,60,61,62,63,64,65,66,67,68,69,70,71,72,73,74,75,76,77,78,79,80,81,82,83,84,85,86,87,88,89,90,91,92,93,94,95,96,97,98,99,100,101,102,103,104,105,106,107,108,109,110,111,112,113,114,115,116,117,118,119,120,121, | 796929.25\n",
      "epoch 1\n",
      "0,1,2,3,4,5,6,7,8,9,10,11,12,13,14,15,16,17,18,19,20,21,22,23,24,25,26,27,28,29,30,31,32,33,34,35,36,37,38,39,40,41,42,43,44,45,46,47,48,49,50,51,52,53,54,55,56,57,58,59,60,61,62,63,64,65,66,67,68,69,70,71,72,73,74,75,76,77,78,79,80,81,82,83,84,85,86,87,88,89,90,91,92,93,94,95,96,97,98,99,100,101,102,103,104,105,106,107,108,109,110,111,112,113,114,115,116,117,118,119,120,121, | 856688.81\n",
      "epoch 2\n",
      "0,1,2,3,4,5,6,7,8,9,10,11,12,13,14,15,16,17,18,19,20,21,22,23,24,25,26,27,28,29,30,31,32,33,34,35,36,37,38,39,40,41,42,43,44,45,46,47,48,49,50,51,52,53,54,55,56,57,58,59,60,61,62,63,64,65,66,67,68,69,70,71,72,73,74,75,76,77,78,79,80,81,82,83,84,85,86,87,88,89,90,91,92,93,94,95,96,97,98,99,100,101,102,103,104,105,106,107,108,109,110,111,112,113,114,115,116,117,118,119,120,121, | 390033.75\n",
      "epoch 3\n",
      "0,1,2,3,4,5,6,7,8,9,10,11,12,13,14,15,16,17,18,19,20,21,22,23,24,25,26,27,28,29,30,31,32,33,34,35,36,37,38,39,40,41,42,43,44,45,46,47,48,49,50,51,52,53,54,55,56,57,58,59,60,61,62,63,64,65,66,67,68,69,70,71,72,73,74,75,76,77,78,79,80,81,82,83,84,85,86,87,88,89,90,91,92,93,94,95,96,97,98,99,100,101,102,103,104,105,106,107,108,109,110,111,112,113,114,115,116,117,118,119,120,121, | 412585.88\n",
      "epoch 4\n",
      "0,1,2,3,4,5,6,7,8,9,10,11,12,13,14,15,16,17,18,19,20,21,22,23,24,25,26,27,28,29,30,31,32,33,34,35,36,37,38,39,40,41,42,43,44,45,46,47,48,49,50,51,52,53,54,55,56,57,58,59,60,61,62,63,64,65,66,67,68,69,70,71,72,73,74,75,76,77,78,79,80,81,82,83,84,85,86,87,88,89,90,91,92,93,94,95,96,97,98,99,100,101,102,103,104,105,106,107,108,109,110,111,112,113,114,115,116,117,118,119,120,121, | 978038.94\n",
      "epoch 5\n",
      "0,1,2,3,4,5,6,7,8,9,10,11,12,13,14,15,16,17,18,19,20,21,22,23,24,25,26,27,28,29,30,31,32,33,34,35,36,37,38,39,40,41,42,43,44,45,46,47,48,49,50,51,52,53,54,55,56,57,58,59,60,61,62,63,64,65,66,67,68,69,70,71,72,73,74,75,76,77,78,79,80,81,82,83,84,85,86,87,88,89,90,91,92,93,94,95,96,97,98,99,100,101,102,103,104,105,106,107,108,109,110,111,112,113,114,115,116,117,118,119,120,121, | 1661469.25\n",
      "epoch 6\n",
      "0,1,2,3,4,5,6,7,8,9,10,11,12,13,14,15,16,17,18,19,20,21,22,23,24,25,26,27,28,29,30,31,32,33,34,35,36,37,38,39,40,41,42,43,44,45,46,47,48,49,50,51,52,53,54,55,56,57,58,59,60,61,62,63,64,65,66,67,68,69,70,71,72,73,74,75,76,77,78,79,80,81,82,83,84,85,86,87,88,89,90,91,92,93,94,95,96,97,98,99,100,101,102,103,104,105,106,107,108,109,110,111,112,113,114,115,116,117,118,119,120,121, | 402339.91\n",
      "epoch 7\n",
      "0,1,2,"
     ]
    },
    {
     "ename": "KeyboardInterrupt",
     "evalue": "",
     "output_type": "error",
     "traceback": [
      "\u001b[1;31m---------------------------------------------------------------------------\u001b[0m",
      "\u001b[1;31mKeyboardInterrupt\u001b[0m                         Traceback (most recent call last)",
      "\u001b[1;32m<ipython-input-42-5e9c89511d11>\u001b[0m in \u001b[0;36m<module>\u001b[1;34m()\u001b[0m\n\u001b[0;32m     17\u001b[0m                 \u001b[0mx\u001b[0m\u001b[1;33m:\u001b[0m \u001b[0mbatch_X\u001b[0m\u001b[1;33m,\u001b[0m\u001b[1;33m\u001b[0m\u001b[0m\n\u001b[0;32m     18\u001b[0m                 \u001b[0my\u001b[0m\u001b[1;33m:\u001b[0m \u001b[0mbatch_Y\u001b[0m\u001b[1;33m,\u001b[0m\u001b[1;33m\u001b[0m\u001b[0m\n\u001b[1;32m---> 19\u001b[1;33m                 \u001b[0mkeep_prob\u001b[0m\u001b[1;33m:\u001b[0m \u001b[1;36m0.5\u001b[0m\u001b[1;33m\u001b[0m\u001b[0m\n\u001b[0m\u001b[0;32m     20\u001b[0m             })\n\u001b[0;32m     21\u001b[0m             \u001b[0mrand_batch_start\u001b[0m \u001b[1;33m=\u001b[0m \u001b[0mnp\u001b[0m\u001b[1;33m.\u001b[0m\u001b[0mrandom\u001b[0m\u001b[1;33m.\u001b[0m\u001b[0mrandint\u001b[0m\u001b[1;33m(\u001b[0m\u001b[1;36m0\u001b[0m\u001b[1;33m,\u001b[0m \u001b[0mlen\u001b[0m\u001b[1;33m(\u001b[0m\u001b[0mtrain_X\u001b[0m\u001b[1;33m)\u001b[0m \u001b[1;33m-\u001b[0m \u001b[1;36m50\u001b[0m\u001b[1;33m)\u001b[0m\u001b[1;33m\u001b[0m\u001b[0m\n",
      "\u001b[1;32mc:\\users\\david\\appdata\\local\\programs\\python\\python35\\lib\\site-packages\\tensorflow\\python\\client\\session.py\u001b[0m in \u001b[0;36mrun\u001b[1;34m(self, fetches, feed_dict, options, run_metadata)\u001b[0m\n\u001b[0;32m    887\u001b[0m     \u001b[1;32mtry\u001b[0m\u001b[1;33m:\u001b[0m\u001b[1;33m\u001b[0m\u001b[0m\n\u001b[0;32m    888\u001b[0m       result = self._run(None, fetches, feed_dict, options_ptr,\n\u001b[1;32m--> 889\u001b[1;33m                          run_metadata_ptr)\n\u001b[0m\u001b[0;32m    890\u001b[0m       \u001b[1;32mif\u001b[0m \u001b[0mrun_metadata\u001b[0m\u001b[1;33m:\u001b[0m\u001b[1;33m\u001b[0m\u001b[0m\n\u001b[0;32m    891\u001b[0m         \u001b[0mproto_data\u001b[0m \u001b[1;33m=\u001b[0m \u001b[0mtf_session\u001b[0m\u001b[1;33m.\u001b[0m\u001b[0mTF_GetBuffer\u001b[0m\u001b[1;33m(\u001b[0m\u001b[0mrun_metadata_ptr\u001b[0m\u001b[1;33m)\u001b[0m\u001b[1;33m\u001b[0m\u001b[0m\n",
      "\u001b[1;32mc:\\users\\david\\appdata\\local\\programs\\python\\python35\\lib\\site-packages\\tensorflow\\python\\client\\session.py\u001b[0m in \u001b[0;36m_run\u001b[1;34m(self, handle, fetches, feed_dict, options, run_metadata)\u001b[0m\n\u001b[0;32m   1118\u001b[0m     \u001b[1;32mif\u001b[0m \u001b[0mfinal_fetches\u001b[0m \u001b[1;32mor\u001b[0m \u001b[0mfinal_targets\u001b[0m \u001b[1;32mor\u001b[0m \u001b[1;33m(\u001b[0m\u001b[0mhandle\u001b[0m \u001b[1;32mand\u001b[0m \u001b[0mfeed_dict_tensor\u001b[0m\u001b[1;33m)\u001b[0m\u001b[1;33m:\u001b[0m\u001b[1;33m\u001b[0m\u001b[0m\n\u001b[0;32m   1119\u001b[0m       results = self._do_run(handle, final_targets, final_fetches,\n\u001b[1;32m-> 1120\u001b[1;33m                              feed_dict_tensor, options, run_metadata)\n\u001b[0m\u001b[0;32m   1121\u001b[0m     \u001b[1;32melse\u001b[0m\u001b[1;33m:\u001b[0m\u001b[1;33m\u001b[0m\u001b[0m\n\u001b[0;32m   1122\u001b[0m       \u001b[0mresults\u001b[0m \u001b[1;33m=\u001b[0m \u001b[1;33m[\u001b[0m\u001b[1;33m]\u001b[0m\u001b[1;33m\u001b[0m\u001b[0m\n",
      "\u001b[1;32mc:\\users\\david\\appdata\\local\\programs\\python\\python35\\lib\\site-packages\\tensorflow\\python\\client\\session.py\u001b[0m in \u001b[0;36m_do_run\u001b[1;34m(self, handle, target_list, fetch_list, feed_dict, options, run_metadata)\u001b[0m\n\u001b[0;32m   1315\u001b[0m     \u001b[1;32mif\u001b[0m \u001b[0mhandle\u001b[0m \u001b[1;32mis\u001b[0m \u001b[1;32mNone\u001b[0m\u001b[1;33m:\u001b[0m\u001b[1;33m\u001b[0m\u001b[0m\n\u001b[0;32m   1316\u001b[0m       return self._do_call(_run_fn, self._session, feeds, fetches, targets,\n\u001b[1;32m-> 1317\u001b[1;33m                            options, run_metadata)\n\u001b[0m\u001b[0;32m   1318\u001b[0m     \u001b[1;32melse\u001b[0m\u001b[1;33m:\u001b[0m\u001b[1;33m\u001b[0m\u001b[0m\n\u001b[0;32m   1319\u001b[0m       \u001b[1;32mreturn\u001b[0m \u001b[0mself\u001b[0m\u001b[1;33m.\u001b[0m\u001b[0m_do_call\u001b[0m\u001b[1;33m(\u001b[0m\u001b[0m_prun_fn\u001b[0m\u001b[1;33m,\u001b[0m \u001b[0mself\u001b[0m\u001b[1;33m.\u001b[0m\u001b[0m_session\u001b[0m\u001b[1;33m,\u001b[0m \u001b[0mhandle\u001b[0m\u001b[1;33m,\u001b[0m \u001b[0mfeeds\u001b[0m\u001b[1;33m,\u001b[0m \u001b[0mfetches\u001b[0m\u001b[1;33m)\u001b[0m\u001b[1;33m\u001b[0m\u001b[0m\n",
      "\u001b[1;32mc:\\users\\david\\appdata\\local\\programs\\python\\python35\\lib\\site-packages\\tensorflow\\python\\client\\session.py\u001b[0m in \u001b[0;36m_do_call\u001b[1;34m(self, fn, *args)\u001b[0m\n\u001b[0;32m   1321\u001b[0m   \u001b[1;32mdef\u001b[0m \u001b[0m_do_call\u001b[0m\u001b[1;33m(\u001b[0m\u001b[0mself\u001b[0m\u001b[1;33m,\u001b[0m \u001b[0mfn\u001b[0m\u001b[1;33m,\u001b[0m \u001b[1;33m*\u001b[0m\u001b[0margs\u001b[0m\u001b[1;33m)\u001b[0m\u001b[1;33m:\u001b[0m\u001b[1;33m\u001b[0m\u001b[0m\n\u001b[0;32m   1322\u001b[0m     \u001b[1;32mtry\u001b[0m\u001b[1;33m:\u001b[0m\u001b[1;33m\u001b[0m\u001b[0m\n\u001b[1;32m-> 1323\u001b[1;33m       \u001b[1;32mreturn\u001b[0m \u001b[0mfn\u001b[0m\u001b[1;33m(\u001b[0m\u001b[1;33m*\u001b[0m\u001b[0margs\u001b[0m\u001b[1;33m)\u001b[0m\u001b[1;33m\u001b[0m\u001b[0m\n\u001b[0m\u001b[0;32m   1324\u001b[0m     \u001b[1;32mexcept\u001b[0m \u001b[0merrors\u001b[0m\u001b[1;33m.\u001b[0m\u001b[0mOpError\u001b[0m \u001b[1;32mas\u001b[0m \u001b[0me\u001b[0m\u001b[1;33m:\u001b[0m\u001b[1;33m\u001b[0m\u001b[0m\n\u001b[0;32m   1325\u001b[0m       \u001b[0mmessage\u001b[0m \u001b[1;33m=\u001b[0m \u001b[0mcompat\u001b[0m\u001b[1;33m.\u001b[0m\u001b[0mas_text\u001b[0m\u001b[1;33m(\u001b[0m\u001b[0me\u001b[0m\u001b[1;33m.\u001b[0m\u001b[0mmessage\u001b[0m\u001b[1;33m)\u001b[0m\u001b[1;33m\u001b[0m\u001b[0m\n",
      "\u001b[1;32mc:\\users\\david\\appdata\\local\\programs\\python\\python35\\lib\\site-packages\\tensorflow\\python\\client\\session.py\u001b[0m in \u001b[0;36m_run_fn\u001b[1;34m(session, feed_dict, fetch_list, target_list, options, run_metadata)\u001b[0m\n\u001b[0;32m   1300\u001b[0m           return tf_session.TF_Run(session, options,\n\u001b[0;32m   1301\u001b[0m                                    \u001b[0mfeed_dict\u001b[0m\u001b[1;33m,\u001b[0m \u001b[0mfetch_list\u001b[0m\u001b[1;33m,\u001b[0m \u001b[0mtarget_list\u001b[0m\u001b[1;33m,\u001b[0m\u001b[1;33m\u001b[0m\u001b[0m\n\u001b[1;32m-> 1302\u001b[1;33m                                    status, run_metadata)\n\u001b[0m\u001b[0;32m   1303\u001b[0m \u001b[1;33m\u001b[0m\u001b[0m\n\u001b[0;32m   1304\u001b[0m     \u001b[1;32mdef\u001b[0m \u001b[0m_prun_fn\u001b[0m\u001b[1;33m(\u001b[0m\u001b[0msession\u001b[0m\u001b[1;33m,\u001b[0m \u001b[0mhandle\u001b[0m\u001b[1;33m,\u001b[0m \u001b[0mfeed_dict\u001b[0m\u001b[1;33m,\u001b[0m \u001b[0mfetch_list\u001b[0m\u001b[1;33m)\u001b[0m\u001b[1;33m:\u001b[0m\u001b[1;33m\u001b[0m\u001b[0m\n",
      "\u001b[1;31mKeyboardInterrupt\u001b[0m: "
     ]
    }
   ],
   "source": [
    "costs = []\n",
    "num_epochs = 25\n",
    "config = tf.ConfigProto(log_device_placement=True)\n",
    "config.gpu_options.allow_growth = True\n",
    "with tf.Session(config=config) as sess:\n",
    "    try:\n",
    "        saver.restore(sess, './tmp/saved_model.ckpt')\n",
    "    except Exception:\n",
    "        sess.run(init)\n",
    "    for n in range(num_epochs):\n",
    "        print('epoch %d' % (n))\n",
    "        for b in range(len(train_X) // 50 + 1):\n",
    "            print(b, end=',')\n",
    "            batch_X = train_X[b*50:(b+1)*50]\n",
    "            batch_Y = train_Y[b*50:(b+1)*50]\n",
    "            sess.run(train_step, feed_dict={\n",
    "                x: batch_X,\n",
    "                y: batch_Y,\n",
    "                keep_prob: 0.5\n",
    "            })\n",
    "            rand_batch_start = np.random.randint(0, len(train_X) - 50)\n",
    "            costs.append(sess.run(mse, feed_dict={\n",
    "                x: train_X[rand_batch_start:rand_batch_start+50],\n",
    "                y: train_Y[rand_batch_start:rand_batch_start+50],\n",
    "                keep_prob: 1\n",
    "            }))\n",
    "        print(' | %7.2f' % (costs[-1]))\n",
    "        saver.save(sess, './tmp/saved_model.ckpt')\n",
    "plt.plot(np.arange(len(costs))*5, costs)\n",
    "plt.show()"
   ]
  },
  {
   "cell_type": "markdown",
   "metadata": {},
   "source": [
    "### 5.1 Display costs for CNN with GD optimizer with MSE"
   ]
  },
  {
   "cell_type": "code",
   "execution_count": 68,
   "metadata": {},
   "outputs": [
    {
     "data": {
      "image/png": "[encoded data removed]",
      "text/plain": [
       "<matplotlib.figure.Figure at 0x1c2db1d7a90>"
      ]
     },
     "metadata": {},
     "output_type": "display_data"
    },
    {
     "name": "stdout",
     "output_type": "stream",
     "text": [
      "-35.747% change in MSE\n"
     ]
    }
   ],
   "source": [
    "average_batch_size = 25\n",
    "avg_train_costs = []\n",
    "for n in range(len(costs) // average_batch_size):\n",
    "    avg_train_costs.append(np.average(costs[n*average_batch_size:(n+1)*average_batch_size]))\n",
    "\n",
    "plt.plot(np.arange(1,len(costs)+1), costs)\n",
    "plt.plot(np.arange(1,len(costs)-average_batch_size,average_batch_size), avg_train_costs)\n",
    "plt.title('Training MSE')\n",
    "plt.ylabel('MSE')\n",
    "plt.xlabel('Batches')\n",
    "plt.show()\n",
    "initial_train_mse = np.average(costs[:25])\n",
    "final_train_mse = np.average(costs[-25:])\n",
    "print('%2.3f%% change in MSE' % (100*(final_train_mse - initial_train_mse) / initial_train_mse))"
   ]
  },
  {
   "cell_type": "markdown",
   "metadata": {},
   "source": [
    "### 5.2 Test CNN with GD optimizer and MSE"
   ]
  },
  {
   "cell_type": "code",
   "execution_count": 69,
   "metadata": {},
   "outputs": [
    {
     "name": "stdout",
     "output_type": "stream",
     "text": [
      "INFO:tensorflow:Restoring parameters from ./tmp/saved_model.ckpt\n",
      "0,1,2,3,4,5,6,7,8,9,10,11,12,13,14,15,16,17,18,19,20,21,22,23,24,25,26,27,28,29,30,\n",
      "[817631.06, 933755.06, 400826.44, 1069157.6, 1118613.5, 1158111.6, 381189.75, 511215.91, 448197.47, 354493.59, 541626.19, 339490.91, 214654.91, 413882.75, 604265.63, 1039411.7, 440803.53, 541571.13, 827662.63, 996578.0, 715663.69, 494415.75, 788483.06, 476733.72, 885427.75, 572263.63, 291361.09, 540564.06, 557397.63, 497173.84, 453827.22]\n",
      "626660.0\n"
     ]
    }
   ],
   "source": [
    "test_costs = []\n",
    "config = tf.ConfigProto(log_device_placement=True)\n",
    "config.gpu_options.allow_growth = True\n",
    "with tf.Session(config=config) as sess:\n",
    "    saver.restore(sess, './tmp/saved_model.ckpt')\n",
    "    for b in range(len(test_X) // 50 + 1):\n",
    "        print(b, end=',')\n",
    "        batch_X = test_X[b*50:(b+1)*50]\n",
    "        batch_Y = test_Y[b*50:(b+1)*50]\n",
    "        test_costs.append(sess.run(mse, feed_dict={\n",
    "            x: batch_X,\n",
    "            y: batch_Y,\n",
    "            keep_prob: 1\n",
    "        }))\n",
    "    print('')\n",
    "print(test_costs)\n",
    "test_mse = np.average(test_costs)"
   ]
  },
  {
   "cell_type": "code",
   "execution_count": 74,
   "metadata": {},
   "outputs": [
    {
     "name": "stdout",
     "output_type": "stream",
     "text": [
      "Initial Train MSE: 948750.062\n",
      "Final Train MSE: 609603.312\n",
      "Test Train MSE: 626659.812\n"
     ]
    }
   ],
   "source": [
    "print('Initial Train MSE: %6.3f' % initial_train_mse)\n",
    "print('Final Train MSE: %6.3f' % final_train_mse)\n",
    "print('Test Train MSE: %6.3f' % test_mse)"
   ]
  },
  {
   "cell_type": "code",
   "execution_count": null,
   "metadata": {
    "collapsed": true
   },
   "outputs": [],
   "source": []
  }
 ],
 "metadata": {
  "anaconda-cloud": {},
  "kernelspec": {
   "display_name": "Python 3",
   "language": "python",
   "name": "python3"
  }
 },
 "nbformat": 4,
 "nbformat_minor": 1
}
