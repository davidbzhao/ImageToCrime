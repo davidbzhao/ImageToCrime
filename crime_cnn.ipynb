{
 "cells": [
  {
   "cell_type": "markdown",
   "metadata": {},
   "source": [
    "## 1. Import modules"
   ]
  },
  {
   "cell_type": "code",
   "execution_count": 2,
   "metadata": {
    "collapsed": true
   },
   "outputs": [],
   "source": [
    "from shutil import copyfile\n",
    "import numpy as np\n",
    "import pandas as pd\n",
    "from PIL import Image\n",
    "import csv\n",
    "import tensorflow as tf\n",
    "import matplotlib.pyplot as plt\n",
    "import sqlite3 as sql\n",
    "import json\n",
    "import os\n",
    "import pickle"
   ]
  },
  {
   "cell_type": "markdown",
   "metadata": {},
   "source": [
    "## 2. Preprocess  data\n",
    "### 2.1 Extract crime data"
   ]
  },
  {
   "cell_type": "code",
   "execution_count": null,
   "metadata": {
    "collapsed": true
   },
   "outputs": [],
   "source": [
    "crime_data_filepath = 'data/Chicago_Crimes_2012_to_2017.csv'\n",
    "raw_crime_data = pd.read_csv(crime_data_filepath)\n",
    "\n",
    "def number_of_crimes_between(lat1, long1, lat2, long2):\n",
    "    if lat1 > lat2:\n",
    "        lat1, lat2 = lat2, lat1\n",
    "    if long1 > long2:\n",
    "        long1, long2 = long2, long1\n",
    "    return raw_crime_data[(raw_crime_data['Latitude'].between(lat1, lat2)) & \n",
    "                   (raw_crime_data['Longitude'].between(long1, long2))]['ID'].count()"
   ]
  },
  {
   "cell_type": "markdown",
   "metadata": {},
   "source": [
    "### 2.2 Extract 2x2-max-pooled, flattened 320x320 vector for each image"
   ]
  },
  {
   "cell_type": "code",
   "execution_count": null,
   "metadata": {
    "collapsed": true
   },
   "outputs": [],
   "source": [
    "def extract_half_size_image(image_filepath):\n",
    "    im_array = []\n",
    "    try:\n",
    "        with Image.open(image_filepath, 'r').convert('L') as im:\n",
    "            # Extract pixel column vector\n",
    "            pix = im.load()\n",
    "            for i in range(0, im.size[0], 2):\n",
    "                for j in range(0, im.size[1], 2):\n",
    "                    max_pixel = np.max([pix[i,j], pix[i+1,j], pix[i,j+1], pix[i+1,j+1]])\n",
    "                    im_array.append(int(max_pixel))\n",
    "    except FileNotFoundError:\n",
    "        print('File at images/%s not found' % (row[0]))\n",
    "        return None\n",
    "    return im_array            "
   ]
  },
  {
   "cell_type": "markdown",
   "metadata": {},
   "source": [
    "### 2.3 Store labeled data in local SQL file"
   ]
  },
  {
   "cell_type": "code",
   "execution_count": null,
   "metadata": {
    "collapsed": true
   },
   "outputs": [],
   "source": [
    "# Change coordinate txt to csv\n",
    "copyfile('image_coords.txt', 'image_coords.csv')\n",
    "\n",
    "# Generate labeled data as (image pixels, num crimes)\n",
    "conn = sql.connect('input_data.db')\n",
    "c = conn.cursor()\n",
    "c.execute('CREATE TABLE IF NOT EXISTS images (pixels text, crimes text)')\n",
    "\n",
    "cur_row = '*'\n",
    "with open('image_coords.csv', 'r') as coord_file:\n",
    "    reader = csv.reader(coord_file)\n",
    "    cnt = 0\n",
    "    commit_frequency = 10\n",
    "    for row in reader:        \n",
    "        cnt += 1\n",
    "        # Try opening image at filepath specified\n",
    "        image_filepath = 'images/' + row[0]\n",
    "        \n",
    "        # Skip if image is just of water\n",
    "        try:\n",
    "            if os.stat(image_filepath).st_size < 3500:\n",
    "                continue\n",
    "        except FileNotFoundError:\n",
    "            continue\n",
    "        \n",
    "        # Print progress\n",
    "        if '_' in row[0] and row[0][:row[0].index('_')] != cur_row:\n",
    "            cur_row = row[0][:row[0].index('_')]\n",
    "            print('Current row: %s' % (cur_row))\n",
    "        print(cnt, end=',')\n",
    "        \n",
    "#         temporary: skip to 60\n",
    "        if int(cur_row) < 60:\n",
    "            continue\n",
    "        \n",
    "        # Extract pixels\n",
    "        pixels = extract_half_size_image(image_filepath)\n",
    "        if pixels is None: continue\n",
    "        \n",
    "        # Get number of crimes in bounds\n",
    "        lat1, long1, lat2, long2 = np.array(row[1:]).astype(np.float64)\n",
    "        num_crimes_in_area = number_of_crimes_between(lat1, long1, lat2, long2)\n",
    "        c.execute('INSERT INTO images VALUES (?, ?)', (json.dumps(pixels), str(num_crimes_in_area)))\n",
    "        \n",
    "        if cnt % commit_frequency == 0:\n",
    "            conn.commit()\n",
    "    conn.commit()\n",
    "conn.close()"
   ]
  },
  {
   "cell_type": "markdown",
   "metadata": {},
   "source": [
    "## 3. Set up CNN architecture"
   ]
  },
  {
   "cell_type": "code",
   "execution_count": 3,
   "metadata": {
    "collapsed": true
   },
   "outputs": [],
   "source": [
    "def weight_variable(shape):\n",
    "    return tf.Variable(tf.truncated_normal(shape, stddev=0.1))\n",
    "\n",
    "def bias_variable(shape):\n",
    "    return tf.Variable(tf.constant(0.01, shape=shape))"
   ]
  },
  {
   "cell_type": "code",
   "execution_count": 4,
   "metadata": {
    "collapsed": true
   },
   "outputs": [],
   "source": [
    "def conv2d(x, W, stride_size=2):\n",
    "    return tf.nn.conv2d(x, W, strides=[1,stride_size,stride_size,1], padding='SAME')\n",
    "\n",
    "def max_pool_2x2(x):\n",
    "    return tf.nn.max_pool(x, ksize=[1,2,2,1], strides=[1,2,2,1], padding='SAME')"
   ]
  },
  {
   "cell_type": "markdown",
   "metadata": {},
   "source": [
    "### 3.1 Define convolutional layers"
   ]
  },
  {
   "cell_type": "code",
   "execution_count": 36,
   "metadata": {},
   "outputs": [
    {
     "name": "stdout",
     "output_type": "stream",
     "text": [
      "h_pool1 (?, 40, 40, 32)\n",
      "h_pool2 (?, 5, 5, 64)\n"
     ]
    }
   ],
   "source": [
    "WIDTH = 320 # pixel width of each image\n",
    "HEIGHT = 320 # pixel height of each image\n",
    "\n",
    "# with tf.device('/gpu:0'):\n",
    "x = tf.placeholder(tf.float32, shape=[None, WIDTH*HEIGHT]) # input is flattened image\n",
    "y = tf.placeholder(tf.float32, shape=[None, 1]) # output is one value\n",
    "\n",
    "x_image = tf.reshape(x, [-1, WIDTH, HEIGHT, 1])\n",
    "\n",
    "# Weights and biases between input and hidden layer 1\n",
    "W_conv1 = weight_variable([5, 5, 1, 32])\n",
    "b_conv1 = bias_variable([32])\n",
    "\n",
    "# Hidden layer 1\n",
    "h_conv1 = tf.nn.relu(conv2d(x_image, W_conv1, stride_size=4) + b_conv1)\n",
    "# Max pooled hidden layer 1\n",
    "h_pool1 = max_pool_2x2(h_conv1)\n",
    "\n",
    "print('h_pool1', h_pool1.shape)\n",
    "\n",
    "# Weights and biases between hidden layer 1 and 2\n",
    "W_conv2 = weight_variable([5, 5, 32, 64])\n",
    "b_conv2 = weight_variable([64])\n",
    "\n",
    "# Hidden layer 2\n",
    "h_conv2 = tf.nn.relu(conv2d(h_pool1, W_conv2, stride_size=4) + b_conv2)\n",
    "# Max pooled hidden layer 2\n",
    "h_pool2 = max_pool_2x2(h_conv2)\n",
    "\n",
    "print('h_pool2', h_pool2.shape)\n",
    "\n",
    "# # Weights and biases between hidden layer 2 and 3\n",
    "# W_conv3 = weight_variable([5, 5, 64, 128])\n",
    "# b_conv3 = bias_variable([128])\n",
    "\n",
    "# # Hidden layer 3\n",
    "# h_conv3 = tf.nn.relu(conv2d(h_pool2, W_conv3) + b_conv3)\n",
    "# # Max pooled hidden layer 3\n",
    "# h_pool3 = max_pool_2x2(h_conv3) # dim is 5x5x128\n",
    "\n",
    "# print('h_pool3', h_pool3.shape)"
   ]
  },
  {
   "cell_type": "markdown",
   "metadata": {},
   "source": [
    "### 3.2 Define dense layers"
   ]
  },
  {
   "cell_type": "code",
   "execution_count": 37,
   "metadata": {
    "collapsed": true
   },
   "outputs": [],
   "source": [
    "# with tf.device('/gpu:0'):\n",
    "# Dense layer 1\n",
    "W_d1 = weight_variable([5*5*64, 512])\n",
    "b_d1 = weight_variable([512])\n",
    "\n",
    "h_pool2_flat = tf.reshape(h_pool2, [-1, 5*5*64])\n",
    "# h_pool3_flat = tf.reshape(h_pool3, [-1, 3*3*128])\n",
    "h_d1 = tf.nn.relu(tf.matmul(h_pool2_flat, W_d1) + b_d1)\n",
    "\n",
    "keep_prob = tf.placeholder(tf.float32)\n",
    "h_d1_drop = tf.nn.dropout(h_d1, keep_prob)\n",
    "\n",
    "# Dense layer 2\n",
    "W_d2 = weight_variable([512, 1])\n",
    "b_d2 = bias_variable([1])\n",
    "\n",
    "# Output\n",
    "y_pred = tf.abs(tf.matmul(h_d1_drop, W_d2) + b_d2)"
   ]
  },
  {
   "cell_type": "markdown",
   "metadata": {},
   "source": [
    "## 4. Partition data\n",
    "### 4.1 Retrieve data from database"
   ]
  },
  {
   "cell_type": "code",
   "execution_count": null,
   "metadata": {
    "collapsed": true
   },
   "outputs": [],
   "source": [
    "conn = sql.connect('input_data.db')\n",
    "c = conn.cursor()\n",
    "\n",
    "# Partition data\n",
    "c.execute('SELECT COUNT(*) FROM images')\n",
    "num_rows = c.fetchone()[0]\n",
    "all_row_ids = np.arange(num_rows) + 1\n",
    "np.random.shuffle(all_row_ids)\n",
    "train_row_ids = all_row_ids[:int(0.8*num_rows)]\n",
    "test_row_ids = all_row_ids[int(0.8*num_rows):]\n",
    "\n",
    "# Store training data in memory\n",
    "train_X = []\n",
    "train_Y = []\n",
    "for row_id in train_row_ids:\n",
    "    c.execute('SELECT * FROM images WHERE rowid=?', [int(row_id)])\n",
    "    row = c.fetchone()\n",
    "    if row is None:\n",
    "        print('row_id %d is not in table' % (row_id))\n",
    "    pixels, crimes = row\n",
    "    pixels = json.loads(pixels)\n",
    "#     pixels = np.array(pixels).reshape([-1, len(pixels)])\n",
    "    crimes = np.array([int(crimes)])\n",
    "    train_X.append(pixels)\n",
    "    train_Y.append(crimes)\n",
    "    \n",
    "# Store testing data in memory\n",
    "test_X = []\n",
    "test_Y = []\n",
    "for row_id in test_row_ids:\n",
    "    c.execute('SELECT * FROM images WHERE rowid=?', [int(row_id)])\n",
    "    row = c.fetchone()\n",
    "    if row is None:\n",
    "        print('row_id %d is not in table' % (row_id))\n",
    "    pixels, crimes = row\n",
    "    pixels = json.loads(pixels)\n",
    "#     pixels = np.array(pixels).reshape([-1, len(pixels)])\n",
    "    crimes = np.array([int(crimes)])\n",
    "    test_X.append(pixels)\n",
    "    test_Y.append(crimes)\n",
    "\n",
    "conn.close()"
   ]
  },
  {
   "cell_type": "markdown",
   "metadata": {},
   "source": [
    "### 4.2 Pickle training and test data arrays"
   ]
  },
  {
   "cell_type": "code",
   "execution_count": null,
   "metadata": {
    "collapsed": true
   },
   "outputs": [],
   "source": [
    "pickle.dump(train_X, open('./pickles/train_x.pickle','wb'))\n",
    "pickle.dump(train_Y, open('./pickles/train_y.pickle','wb'))\n",
    "pickle.dump(test_X, open('./pickles/test_x.pickle','wb'))\n",
    "pickle.dump(test_Y, open('./pickles/test_y.pickle','wb'))"
   ]
  },
  {
   "cell_type": "code",
   "execution_count": 22,
   "metadata": {
    "collapsed": true
   },
   "outputs": [],
   "source": [
    "train_X = pickle.load(open('./pickles/train_x.pickle','rb'))\n",
    "train_Y = pickle.load(open('./pickles/train_y.pickle','rb'))"
   ]
  },
  {
   "cell_type": "code",
   "execution_count": 7,
   "metadata": {
    "collapsed": true
   },
   "outputs": [],
   "source": [
    "test_X = pickle.load(open('./pickles/test_x.pickle','rb'))\n",
    "test_Y = pickle.load(open('./pickles/test_y.pickle','rb'))"
   ]
  },
  {
   "cell_type": "markdown",
   "metadata": {},
   "source": [
    "## 5. Train CNN with GD optimizer with MSE"
   ]
  },
  {
   "cell_type": "markdown",
   "metadata": {},
   "source": [
    "### 5.1 Define loss and optimization functions"
   ]
  },
  {
   "cell_type": "code",
   "execution_count": 38,
   "metadata": {
    "collapsed": true
   },
   "outputs": [],
   "source": [
    "mse = tf.losses.mean_squared_error(y, y_pred)\n",
    "train_step = tf.train.GradientDescentOptimizer(1e-10).minimize(mse)\n",
    "init = tf.global_variables_initializer()\n",
    "with tf.device('/device:CPU:0'):\n",
    "    saver = tf.train.Saver()"
   ]
  },
  {
   "cell_type": "code",
   "execution_count": 53,
   "metadata": {},
   "outputs": [
    {
     "name": "stdout",
     "output_type": "stream",
     "text": [
      "INFO:tensorflow:Restoring parameters from ./tmp/test001_saved_model.ckpt\n",
      "epoch 0\n",
      "0,1,2,3,4,5,6,7,8,9,10,11,12,13,14,15,16,17,18,19,20,21,22,23,24,25,26,27,28,29,30,31,32,33,34,35,36,37,38,39,40,41,42,43,44,45,46,47,48,49,50,51,52,53,54,55,56,57,58,59,60,61,62,63,64,65,66,67,68,69,70,71,72,73,74,75,76,77,78,79,80,81,82,83,84,85,86,87,88,89,90,91,92,93,94,95,96,97,98,99,100,101,102,103,104,105,106,107,108,109,110,111,112,113,114,115,116,117,118,119,120,121, | 765974.06\n",
      "epoch 1\n",
      "0,1,2,3,4,5,6,7,8,9,10,11,12,13,14,15,16,17,18,19,20,21,22,23,24,25,26,27,28,29,30,31,32,33,34,35,36,37,38,39,40,41,42,43,44,45,46,47,48,49,50,51,52,53,54,55,56,57,58,59,60,61,62,63,64,65,66,67,68,69,70,71,72,73,74,75,76,77,78,79,80,81,82,83,84,85,86,87,88,89,90,91,92,93,94,95,96,97,98,99,100,101,102,103,104,105,106,107,108,109,110,111,112,113,114,115,116,117,118,119,120,121, | 616934.94\n",
      "epoch 2\n",
      "0,1,2,3,4,5,6,7,8,9,10,11,12,13,14,15,16,17,18,19,20,21,22,23,24,25,26,27,28,29,30,31,32,33,34,35,36,37,38,39,40,41,42,43,44,45,46,47,48,49,50,51,52,53,54,55,56,57,58,59,60,61,62,63,64,65,66,67,68,69,70,71,72,73,74,75,76,77,78,79,80,81,82,83,84,85,86,87,88,89,90,91,92,93,94,95,96,97,98,99,100,101,102,103,104,105,106,107,108,109,110,111,112,113,114,115,116,117,118,119,120,121, | 787982.75\n",
      "epoch 3\n",
      "0,1,2,3,4,5,6,7,8,9,10,11,12,13,14,15,16,17,18,19,20,21,22,23,24,25,26,27,28,29,30,31,32,33,34,35,36,37,38,39,40,41,42,43,44,45,46,47,48,49,50,51,52,53,54,55,56,57,58,59,60,61,62,63,64,65,66,67,68,69,70,71,72,73,74,75,76,77,78,79,80,81,82,83,84,85,86,87,88,89,90,91,92,93,94,95,96,97,98,99,100,101,102,103,104,105,106,107,108,109,110,111,112,113,114,115,116,117,118,119,120,121, | 835750.06\n",
      "epoch 4\n",
      "0,1,2,3,4,5,6,7,8,9,10,11,12,13,14,15,16,17,18,19,20,21,22,23,24,25,26,27,28,29,30,31,32,33,34,35,36,37,38,39,40,41,42,43,44,45,46,47,48,49,50,51,52,53,54,55,56,57,58,59,60,61,62,63,64,65,66,67,68,69,70,71,72,73,74,75,76,77,78,79,80,81,82,83,84,85,86,87,88,89,90,91,92,93,94,95,96,97,98,99,100,101,102,103,104,105,106,107,108,109,110,111,112,113,114,115,116,117,118,119,120,121, | 540634.88\n",
      "epoch 5\n",
      "0,"
     ]
    },
    {
     "ename": "KeyboardInterrupt",
     "evalue": "",
     "output_type": "error",
     "traceback": [
      "\u001b[1;31m---------------------------------------------------------------------------\u001b[0m",
      "\u001b[1;31mKeyboardInterrupt\u001b[0m                         Traceback (most recent call last)",
      "\u001b[1;32m<ipython-input-53-41df20bc5c08>\u001b[0m in \u001b[0;36m<module>\u001b[1;34m()\u001b[0m\n\u001b[0;32m     17\u001b[0m                 \u001b[0mx\u001b[0m\u001b[1;33m:\u001b[0m \u001b[0mbatch_X\u001b[0m\u001b[1;33m,\u001b[0m\u001b[1;33m\u001b[0m\u001b[0m\n\u001b[0;32m     18\u001b[0m                 \u001b[0my\u001b[0m\u001b[1;33m:\u001b[0m \u001b[0mbatch_Y\u001b[0m\u001b[1;33m,\u001b[0m\u001b[1;33m\u001b[0m\u001b[0m\n\u001b[1;32m---> 19\u001b[1;33m                 \u001b[0mkeep_prob\u001b[0m\u001b[1;33m:\u001b[0m \u001b[1;36m0.5\u001b[0m\u001b[1;33m\u001b[0m\u001b[0m\n\u001b[0m\u001b[0;32m     20\u001b[0m             })\n\u001b[0;32m     21\u001b[0m             \u001b[0mrand_batch_start\u001b[0m \u001b[1;33m=\u001b[0m \u001b[0mnp\u001b[0m\u001b[1;33m.\u001b[0m\u001b[0mrandom\u001b[0m\u001b[1;33m.\u001b[0m\u001b[0mrandint\u001b[0m\u001b[1;33m(\u001b[0m\u001b[1;36m0\u001b[0m\u001b[1;33m,\u001b[0m \u001b[0mlen\u001b[0m\u001b[1;33m(\u001b[0m\u001b[0mtrain_X\u001b[0m\u001b[1;33m)\u001b[0m \u001b[1;33m-\u001b[0m \u001b[1;36m50\u001b[0m\u001b[1;33m)\u001b[0m\u001b[1;33m\u001b[0m\u001b[0m\n",
      "\u001b[1;32mc:\\users\\david\\appdata\\local\\programs\\python\\python35\\lib\\site-packages\\tensorflow\\python\\client\\session.py\u001b[0m in \u001b[0;36mrun\u001b[1;34m(self, fetches, feed_dict, options, run_metadata)\u001b[0m\n\u001b[0;32m    887\u001b[0m     \u001b[1;32mtry\u001b[0m\u001b[1;33m:\u001b[0m\u001b[1;33m\u001b[0m\u001b[0m\n\u001b[0;32m    888\u001b[0m       result = self._run(None, fetches, feed_dict, options_ptr,\n\u001b[1;32m--> 889\u001b[1;33m                          run_metadata_ptr)\n\u001b[0m\u001b[0;32m    890\u001b[0m       \u001b[1;32mif\u001b[0m \u001b[0mrun_metadata\u001b[0m\u001b[1;33m:\u001b[0m\u001b[1;33m\u001b[0m\u001b[0m\n\u001b[0;32m    891\u001b[0m         \u001b[0mproto_data\u001b[0m \u001b[1;33m=\u001b[0m \u001b[0mtf_session\u001b[0m\u001b[1;33m.\u001b[0m\u001b[0mTF_GetBuffer\u001b[0m\u001b[1;33m(\u001b[0m\u001b[0mrun_metadata_ptr\u001b[0m\u001b[1;33m)\u001b[0m\u001b[1;33m\u001b[0m\u001b[0m\n",
      "\u001b[1;32mc:\\users\\david\\appdata\\local\\programs\\python\\python35\\lib\\site-packages\\tensorflow\\python\\client\\session.py\u001b[0m in \u001b[0;36m_run\u001b[1;34m(self, handle, fetches, feed_dict, options, run_metadata)\u001b[0m\n\u001b[0;32m   1087\u001b[0m             \u001b[0mfeed_handles\u001b[0m\u001b[1;33m[\u001b[0m\u001b[0msubfeed_t\u001b[0m\u001b[1;33m]\u001b[0m \u001b[1;33m=\u001b[0m \u001b[0msubfeed_val\u001b[0m\u001b[1;33m\u001b[0m\u001b[0m\n\u001b[0;32m   1088\u001b[0m           \u001b[1;32melse\u001b[0m\u001b[1;33m:\u001b[0m\u001b[1;33m\u001b[0m\u001b[0m\n\u001b[1;32m-> 1089\u001b[1;33m             \u001b[0mnp_val\u001b[0m \u001b[1;33m=\u001b[0m \u001b[0mnp\u001b[0m\u001b[1;33m.\u001b[0m\u001b[0masarray\u001b[0m\u001b[1;33m(\u001b[0m\u001b[0msubfeed_val\u001b[0m\u001b[1;33m,\u001b[0m \u001b[0mdtype\u001b[0m\u001b[1;33m=\u001b[0m\u001b[0msubfeed_dtype\u001b[0m\u001b[1;33m)\u001b[0m\u001b[1;33m\u001b[0m\u001b[0m\n\u001b[0m\u001b[0;32m   1090\u001b[0m \u001b[1;33m\u001b[0m\u001b[0m\n\u001b[0;32m   1091\u001b[0m           if (not is_tensor_handle_feed and\n",
      "\u001b[1;31mKeyboardInterrupt\u001b[0m: "
     ]
    }
   ],
   "source": [
    "costs = []\n",
    "num_epochs = 5\n",
    "config = tf.ConfigProto(log_device_placement=True)\n",
    "config.gpu_options.allow_growth = True\n",
    "with tf.Session(config=config) as sess:\n",
    "    try:\n",
    "        saver.restore(sess, './tmp/test001_saved_model.ckpt')\n",
    "    except Exception:\n",
    "        sess.run(init)\n",
    "    for n in range(num_epochs):\n",
    "        print('epoch %d' % (n))\n",
    "        for b in range(len(train_X) // 50 + 1):\n",
    "            print(b, end=',')\n",
    "            batch_X = train_X[b*50:(b+1)*50]\n",
    "            batch_Y = train_Y[b*50:(b+1)*50]\n",
    "            sess.run(train_step, feed_dict={\n",
    "                x: batch_X,\n",
    "                y: batch_Y,\n",
    "                keep_prob: 0.5\n",
    "            })\n",
    "            rand_batch_start = np.random.randint(0, len(train_X) - 50)\n",
    "            costs.append(sess.run(mse, feed_dict={\n",
    "                x: train_X[rand_batch_start:rand_batch_start+50],\n",
    "                y: train_Y[rand_batch_start:rand_batch_start+50],\n",
    "                keep_prob: 1\n",
    "            }))\n",
    "        print(' | %7.2f' % (costs[-1]))\n",
    "        saver.save(sess, './tmp/test001_saved_model.ckpt')\n",
    "plt.plot(np.arange(len(costs))*5, costs)\n",
    "plt.show()"
   ]
  },
  {
   "cell_type": "markdown",
   "metadata": {},
   "source": [
    "### 5.2 Display costs for CNN with GD optimizer with MSE"
   ]
  },
  {
   "cell_type": "code",
   "execution_count": 54,
   "metadata": {},
   "outputs": [
    {
     "data": {
      "image/png": "[encoded data removed]",
      "text/plain": [
       "<matplotlib.figure.Figure at 0x24bd9c380f0>"
      ]
     },
     "metadata": {},
     "output_type": "display_data"
    },
    {
     "name": "stdout",
     "output_type": "stream",
     "text": [
      "-19.618% change in MSE\n"
     ]
    }
   ],
   "source": [
    "average_batch_size = 25\n",
    "avg_train_costs = []\n",
    "for n in range(len(costs) // average_batch_size):\n",
    "    avg_train_costs.append(np.average(costs[n*average_batch_size:(n+1)*average_batch_size]))\n",
    "\n",
    "plt.plot(np.arange(1,len(costs)+1), costs)\n",
    "plt.plot(np.arange(1,len(costs)-average_batch_size,average_batch_size), avg_train_costs)\n",
    "plt.title('Training MSE')\n",
    "plt.ylabel('MSE')\n",
    "plt.xlabel('Batches')\n",
    "plt.show()\n",
    "initial_train_mse = np.average(costs[:25])\n",
    "final_train_mse = np.average(costs[-25:])\n",
    "print('%2.3f%% change in MSE' % (100*(final_train_mse - initial_train_mse) / initial_train_mse))"
   ]
  },
  {
   "cell_type": "markdown",
   "metadata": {},
   "source": [
    "### 5.3 Test CNN with GD optimizer and MSE"
   ]
  },
  {
   "cell_type": "code",
   "execution_count": 56,
   "metadata": {},
   "outputs": [
    {
     "name": "stdout",
     "output_type": "stream",
     "text": [
      "INFO:tensorflow:Restoring parameters from ./tmp/test001_saved_model.ckpt\n",
      "0,1,2,3,4,5,6,7,8,9,10,11,12,13,14,15,16,17,18,19,20,21,22,23,24,25,26,27,28,29,30,\n",
      "[958658.06, 985528.5, 463516.09, 1284496.1, 1245417.6, 1275031.5, 376980.88, 593635.81, 543490.63, 410974.75, 626080.25, 402066.81, 227499.36, 435959.13, 714852.63, 1192601.3, 486064.88, 638328.88, 977164.81, 1123299.0, 857144.31, 527199.13, 917575.06, 517429.03, 1037519.5, 646806.06, 278517.88, 558874.75, 599977.25, 552173.13, 582910.69]\n"
     ]
    }
   ],
   "source": [
    "test_costs = []\n",
    "config = tf.ConfigProto(log_device_placement=True)\n",
    "config.gpu_options.allow_growth = True\n",
    "with tf.Session(config=config) as sess:\n",
    "    saver.restore(sess, './tmp/test001_saved_model.ckpt')\n",
    "    for b in range(len(test_X) // 50 + 1):\n",
    "        print(b, end=',')\n",
    "        batch_X = test_X[b*50:(b+1)*50]\n",
    "        batch_Y = test_Y[b*50:(b+1)*50]\n",
    "        test_costs.append(sess.run(mse, feed_dict={\n",
    "            x: batch_X,\n",
    "            y: batch_Y,\n",
    "            keep_prob: 1\n",
    "        }))\n",
    "    print('')\n",
    "print(test_costs)\n",
    "test_mse = np.average(test_costs)"
   ]
  },
  {
   "cell_type": "code",
   "execution_count": 57,
   "metadata": {},
   "outputs": [
    {
     "name": "stdout",
     "output_type": "stream",
     "text": [
      "Initial Train MSE: 904424.875\n",
      "Final Train MSE: 726994.000\n",
      "Test Train MSE: 710896.000\n"
     ]
    }
   ],
   "source": [
    "print('Initial Train MSE: %6.3f' % initial_train_mse)\n",
    "print('Final Train MSE: %6.3f' % final_train_mse)\n",
    "print('Test Train MSE: %6.3f' % test_mse)"
   ]
  },
  {
   "cell_type": "markdown",
   "metadata": {},
   "source": [
    "## 6. Train CNN with Adam optimizer and MSE"
   ]
  },
  {
   "cell_type": "code",
   "execution_count": 58,
   "metadata": {
    "collapsed": true
   },
   "outputs": [],
   "source": [
    "mse = tf.losses.mean_squared_error(y, y_pred)\n",
    "train_step_2 = tf.train.AdamOptimizer(1e-10).minimize(mse)\n",
    "init = tf.global_variables_initializer()\n",
    "with tf.device('/device:CPU:0'):\n",
    "    saver = tf.train.Saver()"
   ]
  },
  {
   "cell_type": "code",
   "execution_count": 59,
   "metadata": {},
   "outputs": [
    {
     "name": "stdout",
     "output_type": "stream",
     "text": [
      "INFO:tensorflow:Restoring parameters from ./tmp/test001_saved_model_2.ckpt\n",
      "epoch 0\n",
      "0,1,2,3,4,5,6,7,8,9,10,11,12,13,14,15,16,17,18,19,20,21,22,23,24,25,26,27,28,29,30,31,32,33,34,35,36,37,38,39,40,41,42,43,44,45,46,47,48,49,50,51,52,53,54,55,56,57,58,59,60,61,62,63,64,65,66,67,68,69,70,71,72,73,74,75,76,77,78,79,80,81,82,83,84,85,86,87,88,89,90,91,92,93,94,95,96,97,98,99,100,101,102,103,104,105,106,107,108,109,110,111,112,113,114,115,116,117,118,119,120,121, | 540634.88\n",
      "epoch 1\n",
      "0,1,2,3,4,5,6,7,8,9,10,11,12,13,14,15,16,17,18,19,20,21,22,23,24,25,26,27,28,29,30,31,32,33,34,35,36,37,38,39,40,41,42,43,44,45,46,47,48,49,50,51,52,53,54,55,56,57,58,59,60,61,62,63,64,65,66,67,68,69,70,71,72,73,74,75,76,77,78,79,80,81,82,83,84,85,86,87,88,89,90,91,92,93,94,95,96,97,98,99,100,101,102,103,104,105,106,107,108,109,110,111,112,113,114,115,116,117,118,119,120,121, | 540634.88\n",
      "epoch 2\n",
      "0,1,2,3,4,5,6,7,8,9,10,11,12,13,14,15,16,17,18,19,20,21,22,23,24,25,26,27,28,29,30,31,32,33,34,35,36,37,38,39,40,41,42,43,44,45,46,47,48,49,50,51,52,53,54,55,56,57,58,59,60,61,62,63,64,65,66,67,68,69,70,71,72,73,74,75,76,77,78,79,80,81,82,83,84,85,86,87,88,89,90,91,92,93,94,95,96,97,98,99,100,101,102,103,104,105,106,107,108,109,110,111,112,113,114,115,116,117,118,119,120,121, | 540634.88\n",
      "epoch 3\n",
      "0,1,2,3,4,5,6,7,8,9,10,11,12,13,14,15,16,17,18,19,20,21,22,23,24,25,26,27,28,29,30,31,32,33,34,35,36,37,38,39,40,41,42,43,44,45,46,47,48,49,50,51,52,53,54,55,56,57,58,59,60,61,62,63,64,65,66,67,68,69,70,71,72,73,74,75,76,77,78,79,80,81,82,83,84,85,86,87,88,89,90,91,92,93,94,95,96,97,98,99,100,101,102,103,104,105,106,107,108,109,110,111,112,113,114,115,116,117,118,119,120,121, | 540634.88\n",
      "epoch 4\n",
      "0,1,2,3,4,5,6,7,8,9,10,11,12,13,14,15,16,17,18,19,20,21,22,23,24,25,26,27,28,29,30,31,32,33,34,35,36,37,38,39,40,41,42,43,44,45,46,47,48,49,50,51,52,53,54,55,56,57,58,59,60,61,62,63,64,65,66,67,68,69,70,71,72,73,74,75,76,77,78,79,80,81,82,83,84,85,86,87,88,89,90,91,92,93,94,95,96,97,98,99,100,101,102,103,104,105,106,107,108,109,110,111,112,113,114,115,116,117,118,119,120,121, | 540634.88\n"
     ]
    },
    {
     "data": {
      "image/png": "[encoded data removed]",
      "text/plain": [
       "<matplotlib.figure.Figure at 0x24bd9cae588>"
      ]
     },
     "metadata": {},
     "output_type": "display_data"
    }
   ],
   "source": [
    "costs_2 = []\n",
    "num_epochs_2 = 5\n",
    "config = tf.ConfigProto(log_device_placement=True)\n",
    "config.gpu_options.allow_growth = True\n",
    "with tf.Session(config=config) as sess:\n",
    "    try:\n",
    "        saver.restore(sess, './tmp/test001_saved_model_2.ckpt')\n",
    "    except Exception:\n",
    "        sess.run(init)\n",
    "    for n in range(num_epochs_2):\n",
    "        print('epoch %d' % (n))\n",
    "        for b in range(len(train_X) // 50 + 1):\n",
    "            print(b, end=',')\n",
    "            batch_X = train_X[b*50:(b+1)*50]\n",
    "            batch_Y = train_Y[b*50:(b+1)*50]\n",
    "            sess.run(train_step_2, feed_dict={\n",
    "                x: batch_X,\n",
    "                y: batch_Y,\n",
    "                keep_prob: 0.5\n",
    "            })\n",
    "            rand_batch_start = np.random.randint(0, len(train_X) - 50)\n",
    "            costs_2.append(sess.run(mse, feed_dict={\n",
    "                x: train_X[rand_batch_start:rand_batch_start+50],\n",
    "                y: train_Y[rand_batch_start:rand_batch_start+50],\n",
    "                keep_prob: 1\n",
    "            }))\n",
    "        print(' | %7.2f' % (costs[-1]))\n",
    "        saver.save(sess, './tmp/test001_saved_model_2.ckpt')\n",
    "plt.plot(np.arange(len(costs))*5, costs)\n",
    "plt.show()"
   ]
  },
  {
   "cell_type": "code",
   "execution_count": 62,
   "metadata": {},
   "outputs": [
    {
     "data": {
      "image/png": "[encoded data removed]",
      "text/plain": [
       "<matplotlib.figure.Figure at 0x24d16ee2d30>"
      ]
     },
     "metadata": {},
     "output_type": "display_data"
    },
    {
     "name": "stdout",
     "output_type": "stream",
     "text": [
      "-11.212% change in MSE\n"
     ]
    }
   ],
   "source": [
    "average_batch_size = 25\n",
    "avg_train_2_costs = []\n",
    "for n in range(len(costs) // average_batch_size):\n",
    "    avg_train_2_costs.append(np.average(costs[n*average_batch_size:(n+1)*average_batch_size]))\n",
    "\n",
    "plt.plot(np.arange(1,len(costs_2)+1), costs_2)\n",
    "plt.plot(np.arange(1,len(costs_2)-average_batch_size,average_batch_size), avg_train_2_costs)\n",
    "plt.title('Training MSE')\n",
    "plt.ylabel('MSE')\n",
    "plt.xlabel('Batches')\n",
    "plt.show()\n",
    "initial_train_2_mse = np.average(costs_2[:25])\n",
    "final_train_2_mse = np.average(costs_2[-25:])\n",
    "print('%2.3f%% change in MSE' % (100*(final_train_2_mse - initial_train_2_mse) / initial_train_2_mse))"
   ]
  },
  {
   "cell_type": "code",
   "execution_count": 63,
   "metadata": {},
   "outputs": [
    {
     "name": "stdout",
     "output_type": "stream",
     "text": [
      "INFO:tensorflow:Restoring parameters from ./tmp/test001_saved_model_2.ckpt\n",
      "0,1,2,3,4,5,6,7,8,9,10,11,12,13,14,15,16,17,18,19,20,21,22,23,24,25,26,27,28,29,30,\n",
      "[907081.69, 949183.69, 410208.81, 1162475.5, 1156888.0, 1222277.1, 357455.72, 566346.63, 496027.13, 381148.19, 603513.69, 367184.03, 216418.55, 420183.63, 679871.38, 1122128.1, 449819.19, 583780.63, 876992.56, 1072770.0, 790537.38, 511018.53, 872883.06, 485285.19, 977014.75, 613967.94, 273333.0, 558186.13, 577991.38, 513183.72, 530896.44]\n"
     ]
    }
   ],
   "source": [
    "test_costs_2 = []\n",
    "config = tf.ConfigProto(log_device_placement=True)\n",
    "config.gpu_options.allow_growth = True\n",
    "with tf.Session(config=config) as sess:\n",
    "    saver.restore(sess, './tmp/test001_saved_model_2.ckpt')\n",
    "    for b in range(len(test_X) // 50 + 1):\n",
    "        print(b, end=',')\n",
    "        batch_X = test_X[b*50:(b+1)*50]\n",
    "        batch_Y = test_Y[b*50:(b+1)*50]\n",
    "        test_costs_2.append(sess.run(mse, feed_dict={\n",
    "            x: batch_X,\n",
    "            y: batch_Y,\n",
    "            keep_prob: 1\n",
    "        }))\n",
    "    print('')\n",
    "print(test_costs_2)\n",
    "test_2_mse = np.average(test_costs_2)"
   ]
  },
  {
   "cell_type": "code",
   "execution_count": 64,
   "metadata": {},
   "outputs": [
    {
     "name": "stdout",
     "output_type": "stream",
     "text": [
      "Initial Train MSE: 793960.875\n",
      "Final Train MSE: 704944.500\n",
      "Test Train MSE: 667937.125\n"
     ]
    }
   ],
   "source": [
    "print('Initial Train MSE: %6.3f' % initial_train_2_mse)\n",
    "print('Final Train MSE: %6.3f' % final_train_2_mse)\n",
    "print('Test Train MSE: %6.3f' % test_2_mse)"
   ]
  }
 ],
 "metadata": {
  "anaconda-cloud": {},
  "kernelspec": {
   "display_name": "Python 3",
   "language": "python",
   "name": "python3"
  },
  "language_info": {
   "codemirror_mode": {
    "name": "ipython",
    "version": 3
   },
   "file_extension": ".py",
   "mimetype": "text/x-python",
   "name": "python",
   "nbconvert_exporter": "python",
   "pygments_lexer": "ipython3",
   "version": "3.5.3"
  }
 },
 "nbformat": 4,
 "nbformat_minor": 1
}
