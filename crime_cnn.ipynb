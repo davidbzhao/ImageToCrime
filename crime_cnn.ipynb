{
 "cells": [
  {
   "cell_type": "code",
   "execution_count": 4,
   "metadata": {
    "collapsed": true
   },
   "outputs": [],
   "source": [
    "import tensorflow as tf\n",
    "import pickle"
   ]
  },
  {
   "cell_type": "code",
   "execution_count": 13,
   "metadata": {
    "collapsed": true
   },
   "outputs": [],
   "source": [
    "def weight_variable(shape):\n",
    "    return tf.Variable(tf.truncated_normal(shape, stddev=0.1))\n",
    "\n",
    "def bias_variable(shape):\n",
    "    return tf.Variable(tf.constant(0.1, shape=shape))"
   ]
  },
  {
   "cell_type": "code",
   "execution_count": 24,
   "metadata": {
    "collapsed": true
   },
   "outputs": [],
   "source": [
    "def conv2d(x, W, stride_size=2):\n",
    "    return tf.nn.conv2d(x, W, strides=[1,stride_size,stride_size,1], padding='SAME')\n",
    "\n",
    "def max_pool_2x2(x):\n",
    "    return tf.nn.max_pool(x, ksize=[1,2,2,1], strides=[1,2,2,1], padding='SAME')"
   ]
  },
  {
   "cell_type": "code",
   "execution_count": 31,
   "metadata": {
    "collapsed": false
   },
   "outputs": [
    {
     "name": "stdout",
     "output_type": "stream",
     "text": [
      "h_pool1 (?, 80, 80, 32)\n",
      "h_pool2 (?, 10, 10, 64)\n",
      "h_pool3 (?, 3, 3, 128)\n"
     ]
    }
   ],
   "source": [
    "WIDTH = 640 # pixel width of each image\n",
    "HEIGHT = 640 # pixel height of each image\n",
    "\n",
    "x = tf.placeholder(tf.float32, shape=[None, WIDTH*HEIGHT]) # input is flattened image\n",
    "y = tf.placeholder(tf.float32, shape=[None, 1]) # output is one value\n",
    "\n",
    "x_image = tf.reshape(x, [-1, WIDTH, HEIGHT, 1])\n",
    "\n",
    "# Weights and biases between input and hidden layer 1\n",
    "W_conv1 = weight_variable([5, 5, 1, 32])\n",
    "b_conv1 = bias_variable([32])\n",
    "\n",
    "# Hidden layer 1\n",
    "h_conv1 = tf.nn.relu(conv2d(x_image, W_conv1, stride_size=4) + b_conv1)\n",
    "# Max pooled hidden layer 1\n",
    "h_pool1 = max_pool_2x2(h_conv1) #dim is 160x160x32\n",
    "\n",
    "print('h_pool1', h_pool1.shape)\n",
    "\n",
    "# Weights and biases between hidden layer 1 and 2\n",
    "W_conv2 = weight_variable([5, 5, 32, 64])\n",
    "b_conv2 = weight_variable([64])\n",
    "\n",
    "# Hidden layer 2\n",
    "h_conv2 = tf.nn.relu(conv2d(h_pool1, W_conv2, stride_size=4) + b_conv2)\n",
    "# Max pooled hidden layer 2\n",
    "h_pool2 = max_pool_2x2(h_conv2) # dim is 40x40x64\n",
    "\n",
    "print('h_pool2', h_pool2.shape)\n",
    "\n",
    "# Weights and biases between hidden layer 2 and 3\n",
    "W_conv3 = weight_variable([5, 5, 64, 128])\n",
    "b_conv3 = bias_variable([128])\n",
    "\n",
    "# Hidden layer 3\n",
    "h_conv3 = tf.nn.relu(conv2d(h_pool2, W_conv3) + b_conv3)\n",
    "# Max pooled hidden layer 3\n",
    "h_pool3 = max_pool_2x2(h_conv3) # dim is 10x10x96\n",
    "\n",
    "print('h_pool3', h_pool3.shape)"
   ]
  },
  {
   "cell_type": "code",
   "execution_count": null,
   "metadata": {
    "collapsed": true
   },
   "outputs": [],
   "source": []
  }
 ],
 "metadata": {
  "anaconda-cloud": {},
  "kernelspec": {
   "display_name": "Python 3",
   "language": "python",
   "name": "python3"
  },
  "language_info": {
   "codemirror_mode": {
    "name": "ipython",
    "version": 3
   },
   "file_extension": ".py",
   "mimetype": "text/x-python",
   "name": "python",
   "nbconvert_exporter": "python",
   "pygments_lexer": "ipython3",
   "version": "3.5.2"
  }
 },
 "nbformat": 4,
 "nbformat_minor": 1
}
