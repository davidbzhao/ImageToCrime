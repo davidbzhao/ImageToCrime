{
 "cells": [
  {
   "cell_type": "code",
   "execution_count": 167,
   "metadata": {},
   "outputs": [],
   "source": [
    "import tensorflow as tf\n",
    "import pickle\n",
    "from PIL import Image\n",
    "import matplotlib.pyplot as plt\n",
    "import numpy as np"
   ]
  },
  {
   "cell_type": "code",
   "execution_count": 175,
   "metadata": {
    "collapsed": true
   },
   "outputs": [],
   "source": [
    "def weight_variable(shape):\n",
    "    return tf.Variable(tf.truncated_normal(shape, stddev=0.1))\n",
    "\n",
    "def bias_variable(shape):\n",
    "    return tf.Variable(tf.constant(0.01, shape=shape))"
   ]
  },
  {
   "cell_type": "code",
   "execution_count": 176,
   "metadata": {
    "collapsed": true
   },
   "outputs": [],
   "source": [
    "def conv2d(x, W, stride_size=2):\n",
    "    return tf.nn.conv2d(x, W, strides=[1,stride_size,stride_size,1], padding='SAME')\n",
    "\n",
    "def max_pool_2x2(x):\n",
    "    return tf.nn.max_pool(x, ksize=[1,2,2,1], strides=[1,2,2,1], padding='SAME')"
   ]
  },
  {
   "cell_type": "code",
   "execution_count": 213,
   "metadata": {},
   "outputs": [
    {
     "name": "stdout",
     "output_type": "stream",
     "text": [
      "h_pool1 (?, 80, 80, 32)\n",
      "h_pool2 (?, 10, 10, 64)\n",
      "h_pool3 (?, 3, 3, 128)\n"
     ]
    }
   ],
   "source": [
    "WIDTH = 640 # pixel width of each image\n",
    "HEIGHT = 640 # pixel height of each image\n",
    "\n",
    "x = tf.placeholder(tf.float32, shape=[None, WIDTH*HEIGHT]) # input is flattened image\n",
    "y = tf.placeholder(tf.float32, shape=[None, 1]) # output is one value\n",
    "\n",
    "x_image = tf.reshape(x, [-1, WIDTH, HEIGHT, 1])\n",
    "\n",
    "# Weights and biases between input and hidden layer 1\n",
    "W_conv1 = weight_variable([5, 5, 1, 32])\n",
    "b_conv1 = bias_variable([32])\n",
    "\n",
    "# Hidden layer 1\n",
    "h_conv1 = tf.nn.relu(conv2d(x_image, W_conv1, stride_size=4) + b_conv1)\n",
    "# Max pooled hidden layer 1\n",
    "h_pool1 = max_pool_2x2(h_conv1) #dim is 80x80x32\n",
    "\n",
    "print('h_pool1', h_pool1.shape)\n",
    "\n",
    "# Weights and biases between hidden layer 1 and 2\n",
    "W_conv2 = weight_variable([5, 5, 32, 64])\n",
    "b_conv2 = weight_variable([64])\n",
    "\n",
    "# Hidden layer 2\n",
    "h_conv2 = tf.nn.relu(conv2d(h_pool1, W_conv2, stride_size=4) + b_conv2)\n",
    "# Max pooled hidden layer 2\n",
    "h_pool2 = max_pool_2x2(h_conv2) # dim is 20x20x64\n",
    "\n",
    "print('h_pool2', h_pool2.shape)\n",
    "\n",
    "# Weights and biases between hidden layer 2 and 3\n",
    "W_conv3 = weight_variable([5, 5, 64, 128])\n",
    "b_conv3 = bias_variable([128])\n",
    "\n",
    "# Hidden layer 3\n",
    "h_conv3 = tf.nn.relu(conv2d(h_pool2, W_conv3) + b_conv3)\n",
    "# Max pooled hidden layer 3\n",
    "h_pool3 = max_pool_2x2(h_conv3) # dim is 5x5x128\n",
    "\n",
    "print('h_pool3', h_pool3.shape)"
   ]
  },
  {
   "cell_type": "code",
   "execution_count": 215,
   "metadata": {},
   "outputs": [],
   "source": [
    "# Dense layer 1\n",
    "W_d1 = weight_variable([3*3*128, 512])\n",
    "b_d1 = weight_variable([512])\n",
    "\n",
    "h_pool3_flat = tf.reshape(h_pool3, [-1, 3*3*128])\n",
    "h_d1 = tf.nn.relu(tf.matmul(h_pool3_flat, W_d1) + b_d1)\n",
    "\n",
    "keep_prob = tf.placeholder(tf.float32)\n",
    "h_d1_drop = tf.nn.dropout(h_d1, keep_prob)\n",
    "\n",
    "# Dense layer 2\n",
    "W_d2 = weight_variable([512, 1])\n",
    "b_d2 = bias_variable([1])\n",
    "\n",
    "# Output\n",
    "y_pred = tf.matmul(h_d1_drop, W_d2) + b_d2"
   ]
  },
  {
   "cell_type": "code",
   "execution_count": 216,
   "metadata": {},
   "outputs": [],
   "source": [
    "im = Image.open('images/0_61.png', 'r').convert('L')\n",
    "pix = im.load()\n",
    "im_array = []\n",
    "for i in range(im.size[0]):\n",
    "    for j in range(im.size[1]):\n",
    "        im_array.append(pix[i,j])\n",
    "im_array = np.expand_dims(np.array(im_array), axis=0) / 255"
   ]
  },
  {
   "cell_type": "code",
   "execution_count": 253,
   "metadata": {},
   "outputs": [],
   "source": [
    "mse = tf.losses.mean_squared_error(y, y_pred)\n",
    "train_step = tf.train.GradientDescentOptimizer(0.01).minimize(mse)\n",
    "init = tf.global_variables_initializer()"
   ]
  },
  {
   "cell_type": "code",
   "execution_count": 258,
   "metadata": {},
   "outputs": [
    {
     "name": "stdout",
     "output_type": "stream",
     "text": [
      "[1.4643651e+23]\n",
      "[nan]\n",
      "[nan]\n",
      "[nan]\n",
      "[nan]\n",
      "[nan]\n",
      "[nan]\n",
      "[nan]\n",
      "[nan]\n",
      "[nan]\n"
     ]
    }
   ],
   "source": [
    "with tf.Session() as sess:\n",
    "    sess.run(init)\n",
    "#     print(sess.run([y_pred], feed_dict={\n",
    "#         x: im_array,\n",
    "#         y: np.array([[105.0]]),\n",
    "#         keep_prob: 0.5\n",
    "#     }))\n",
    "#     print(sess.run([y_pred], feed_dict={\n",
    "#         x: im_array,\n",
    "#         y: np.array([[105.0]]),\n",
    "#         keep_prob: 1\n",
    "#     }))\n",
    "    for n in range(10):\n",
    "        sess.run(train_step, feed_dict={\n",
    "            x: im_array,\n",
    "            y: np.array([[105]]),\n",
    "            keep_prob: 0.5\n",
    "        })\n",
    "        print(sess.run([mse], feed_dict={\n",
    "            x: im_array,\n",
    "            y: np.array([[105]]),\n",
    "            keep_prob: 1\n",
    "        }))"
   ]
  },
  {
   "cell_type": "code",
   "execution_count": null,
   "metadata": {
    "collapsed": true
   },
   "outputs": [],
   "source": []
  }
 ],
 "metadata": {
  "anaconda-cloud": {},
  "kernelspec": {
   "display_name": "Python 3",
   "language": "python",
   "name": "python3"
  },
  "language_info": {
   "codemirror_mode": {
    "name": "ipython",
    "version": 3
   },
   "file_extension": ".py",
   "mimetype": "text/x-python",
   "name": "python",
   "nbconvert_exporter": "python",
   "pygments_lexer": "ipython3",
   "version": "3.5.3"
  }
 },
 "nbformat": 4,
 "nbformat_minor": 1
}
