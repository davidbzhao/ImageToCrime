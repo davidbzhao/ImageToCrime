{
 "cells": [
  {
   "cell_type": "markdown",
   "metadata": {},
   "source": [
    "## 1. Setup\n",
    "#### 1.1 Import Helper Functions "
   ]
  },
  {
   "cell_type": "code",
   "execution_count": null,
   "metadata": {},
   "outputs": [],
   "source": [
    "%run Google_Map_Image_lib.ipynb"
   ]
  },
  {
   "cell_type": "markdown",
   "metadata": {},
   "source": [
    "#### 1.2 Setup general bounds for chicago"
   ]
  },
  {
   "cell_type": "code",
   "execution_count": null,
   "metadata": {
    "collapsed": true
   },
   "outputs": [],
   "source": [
    "row_counter = 0\n",
    "upper_left_boundary_lat, upper_left_boundary_long = 42.023827, -87.932487 # 42.017191, -87.819896 = dont include airport\n",
    "intmd_left_bound = 41.946839, -87.867751\n",
    "lower_right_boundary_lat = 41.643764\n",
    "lower_right_boundary_long = -87.522456"
   ]
  },
  {
   "cell_type": "markdown",
   "metadata": {},
   "source": [
    "#### 1.3 User Input and Create Output File"
   ]
  },
  {
   "cell_type": "code",
   "execution_count": null,
   "metadata": {},
   "outputs": [],
   "source": [
    "key = input(\"API Key: \")\n",
    "starting_row = int(input(\"row to start from? \"))\n",
    "image_coord_file = open(\"image_coords.txt\", \"a\")\n",
    "image_coord_file.close()"
   ]
  },
  {
   "cell_type": "markdown",
   "metadata": {},
   "source": [
    "## 2. Define helper functions for downloading images\n",
    "##### Abbreviations:\n",
    "    latitude                = lat \n",
    "    longitude               = long\n",
    "    picture width in meters = width_pic"
   ]
  },
  {
   "cell_type": "code",
   "execution_count": null,
   "metadata": {},
   "outputs": [],
   "source": [
    "# given a center of a square find coordinates of top left corner\n",
    "def get_top_left_corner(center_lat, center_long, half_pic_width):\n",
    "    # center_lat: float ; center_long: float ; half_pic_width: float\n",
    "    \n",
    "    center_left_side = get_second_point(center_lat, center_long, half_pic_width, 4)\n",
    "    top_left_corner = get_second_point(center_left_side[0], center_left_side[1], half_pic_width, 1)\n",
    "    return top_left_corner\n",
    "\n",
    "\n",
    "# given a center of a square find coordinates of bottom right corner \n",
    "def get_bot_right_corner(center_lat, center_long, half_pic_width):\n",
    "    # center_lat: float ; center_long: float ; half_pic_width: float\n",
    "    \n",
    "    center_right_side = get_second_point(center_lat, center_long, half_pic_width, 2)\n",
    "    bot_right_corner = get_second_point(center_right_side[0], center_right_side[1], half_pic_width, 3)\n",
    "    return bot_right_corner\n",
    "\n",
    "\n",
    "# download everything to the right of the given coordiantes and to the left of the given boundary coordinates\n",
    "def download_right(lat, long, bound, width_pic, key):\n",
    "    # lat, long, bound, width_pic: float\n",
    "    # key: string\n",
    "    half_pic_width = width_pic / 2\n",
    "    col_counter = 0\n",
    "\n",
    "    while long < bound:\n",
    "        if is_within_city(lat, long, \"Chicago\", key): # within the city ranges\n",
    "\n",
    "            filename = str(row_counter) + \"_\" + str(col_counter) + \".png\"\n",
    "            download_map_image(lat, long, key, filename)\n",
    "\n",
    "            TL_corner = get_top_left_corner(lat, long, half_pic_width)\n",
    "            BR_corner = get_bot_right_corner(lat, long, half_pic_width)\n",
    "\n",
    "            image_coord_file = open(\"image_coords.txt\", \"a\")\n",
    "            image_coord_file.write(filename + \",%s,%s,%s,%s\\n\" % (TL_corner[0], TL_corner[1], BR_corner[0], BR_corner[1]))\n",
    "            image_coord_file.close()\n",
    "        lat,long = get_second_point(lat, long, half_pic_width, 2) # move east by half of the pic's width\n",
    "        col_counter += 1\n",
    "\n",
    "\n",
    "# download all the images that lie on the same latitude \n",
    "def download_entire_lat(lat, long, right_bound, pic_width, key):\n",
    "    download_right(lat, long, right_bound, pic_width, key)\n",
    "    return\n",
    "\n",
    "# get the coordinates for the first image to download (the center point of the topmost and leftmost image)\n",
    "def get_starting_point(row_num):\n",
    "    global row_counter\n",
    "    pic_width = get_pic_width_meters(upper_left_boundary_lat, 640, 17)\n",
    "    starting_point = get_second_point(upper_left_boundary_lat, upper_left_boundary_long, pic_width / 2, 2)\n",
    "    starting_point = get_second_point(starting_point[0], starting_point[1], pic_width / 2, 3)\n",
    "    \n",
    "    for i in range(row_num):\n",
    "        pic_width = get_pic_width_meters(starting_point[0], 640, 17) \n",
    "        starting_point = get_second_point(starting_point[0], starting_point[1], pic_width / 2, 3)\n",
    "        row_counter += 1\n",
    "    return starting_point\n",
    "\n",
    "\n",
    "# picture width in meters changes everytime the latitude changes\n",
    "starting_point = get_starting_point(starting_row)\n"
   ]
  },
  {
   "cell_type": "markdown",
   "metadata": {},
   "source": [
    "## 3. Download Images "
   ]
  },
  {
   "cell_type": "code",
   "execution_count": null,
   "metadata": {},
   "outputs": [],
   "source": [
    "while(starting_point[0] >= lower_right_boundary_lat):\n",
    "    # width changes everytime the latitude changes\n",
    "    pic_width = get_pic_width_meters(starting_point[0], 640, 17) \n",
    "    # download images for the current row\n",
    "    download_entire_lat(starting_point[0], starting_point[1], lower_right_boundary_long, pic_width, key)\n",
    "\n",
    "    # move down ; starting point will be the center of the leftmost square in the row below the current row\n",
    "    starting_point = get_second_point(starting_point[0], starting_point[1], pic_width/2, 3)\n",
    "    row_counter += 1"
   ]
  }
 ],
 "metadata": {
  "kernelspec": {
   "display_name": "Python 3",
   "language": "python",
   "name": "python3"
  },
  "language_info": {
   "codemirror_mode": {
    "name": "ipython",
    "version": 3
   },
   "file_extension": ".py",
   "mimetype": "text/x-python",
   "name": "python",
   "nbconvert_exporter": "python",
   "pygments_lexer": "ipython3",
   "version": "3.6.1"
  }
 },
 "nbformat": 4,
 "nbformat_minor": 2
}
