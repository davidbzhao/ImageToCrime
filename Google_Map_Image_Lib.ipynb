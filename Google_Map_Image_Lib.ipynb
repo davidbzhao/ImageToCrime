{
 "cells": [
  {
   "cell_type": "markdown",
   "metadata": {},
   "source": [
    "### Import needed libraries "
   ]
  },
  {
   "cell_type": "code",
   "execution_count": 1,
   "metadata": {
    "collapsed": true
   },
   "outputs": [],
   "source": [
    "#download the google map image from url\n",
    "import urllib.request, requests, math"
   ]
  },
  {
   "cell_type": "markdown",
   "metadata": {},
   "source": [
    "### Define functions that use Google Map APIs\n",
    "All functions defined here require Google API Key"
   ]
  },
  {
   "cell_type": "code",
   "execution_count": null,
   "metadata": {
    "collapsed": true
   },
   "outputs": [],
   "source": [
    "# Checks if the given point (latitude, longitude) is within the city given \n",
    "# Returns true if the point is within the city, false otherwise\n",
    "# Raises an exception if the Key given is invalid or you reached the query limit\n",
    "# requires API key to have \"Reverse Geocoding\" API Library to be enabled\n",
    "def is_within_city(latitude, longitude, city_name, key):\n",
    "    url = \"https://maps.googleapis.com/maps/api/geocode/json?latlng=\" + str(latitude) + \",\" + str(longitude) + \"&location_type=ROOFTOP|RANGE_INTERPOLATED|GEOMETRIC_CENTER&key=\" + key\n",
    "    response = requests.get(url)\n",
    "    response.raise_for_status()\n",
    "    if (response.json()['status'] == 'ZERO_RESULTS'):\n",
    "        return False\n",
    "    elif (response.json()['status'] != \"OK\"):\n",
    "        raise BaseException(\"Something wrong happened when reverse-geocoding this location:\", latitude , longitude, \"This is the error received\", response.json()['status'])\n",
    "\n",
    "    address = response.json()[\"results\"][0][\"formatted_address\"]\n",
    "    city = address.split(\",\")[1].strip()\n",
    "    return city == city_name\n",
    "\n",
    "# downloads the satellite version of the image\n",
    "\n",
    "def download_satelite_image(latitude, longitude, key, fileName, width=640, height=640, zoom=17):\n",
    "    f = open(fileName, \"wb\")\n",
    "    f.write(urllib.request.urlopen('https://maps.googleapis.com/maps/api/staticmap?center='+ str(latitude) +','+ str(longitude) + '&zoom=17&size=' +str(width) + 'x' + str(height) + '&maptype=satellite&key=' + key).read())\n",
    "    f.close()\n",
    "    \n",
    "# downloads the road mpa version of the image\n",
    "# width, height are the dimensions of the image produced\n",
    "# zoom determines how far the image is zoomed in (bigger number = more zoomed in you are)\n",
    "def download_map_image(latitude, longitude, key, fileName, width=640, height=640, zoom=17):\n",
    "    f = open(fileName, \"wb\")\n",
    "    f.write(urllib.request.urlopen('https://maps.googleapis.com/maps/api/staticmap?center=' + str(latitude) + ',' + str(longitude) + '&zoom=17&size=640x640&style=feature:landscape|element:geometry|saturation:-100&style=feature:water|saturation:-100|invert_lightness:true&style=element:labels|visibility:off&key=' + key).read())\n",
    "    f.close()"
   ]
  },
  {
   "cell_type": "markdown",
   "metadata": {},
   "source": [
    "### Define helper functions for coordinate and distance calculations "
   ]
  },
  {
   "cell_type": "code",
   "execution_count": 4,
   "metadata": {
    "collapsed": true
   },
   "outputs": [],
   "source": [
    "# given a latitude, width of the picture in pixels, and the zoom level of the image\n",
    "# returns the width of the pictue in meters \n",
    "# Code obtained from: https://gis.stackexchange.com/a/127949\n",
    "def get_pic_width_meters(latitude, pic_width_pixels, zoom):\n",
    "    meters_per_pixel = 156543.03392 * math.cos(latitude * math.pi / 180) / math.pow(2, zoom) \n",
    "    pic_width_meters = meters_per_pixel * pic_width_pixels\n",
    "    return pic_width_meters\n",
    "\n",
    "\n",
    "# get coordinates of 2nd point, given a starting point, distance moved, and either moving north/east/south/west\n",
    "# latitude and longitude must be given in DEGREES\n",
    "# returns coordinates of new point in DEGREES\n",
    "def get_second_point(lat1, long1, distance, direction):\n",
    "    ' direction: int: 1 = north, 2 = east, 3 = south, 4 = west'\n",
    "    ret_value = {1: get_second_point_moving_NS(lat1, long1, distance, False),\n",
    "                 2: get_second_point_moving_EW(lat1, long1, distance, False),\n",
    "                 3: get_second_point_moving_NS(lat1, long1, distance, True),\n",
    "                 4: get_second_point_moving_EW(lat1, long1, distance, True)\n",
    "                 }\n",
    "    return ret_value[direction]\n",
    "\n",
    "# given starting coordinates, distance to travel, and whether moving east or west: return the coordinates of the destination\n",
    "# uses the Haversine Formula (https://en.wikipedia.org/wiki/Haversine_formula#The_haversine_formula)\n",
    "def get_second_point_moving_EW(lat1, long1, distance, west= True):\n",
    "    radius = 6371000 # radius of earth in meters  \n",
    "    lat1 = math.radians(lat1)\n",
    "    long1 = math.radians(long1)\n",
    "    p1 = math.sin(distance/(2*radius))\n",
    "    p2 = math.cos(lat1)\n",
    "    quotient = p1/p2\n",
    "    delta_longitude = 2*math.asin(quotient)\n",
    "    # print(\"inside fnctin\", math.degrees(delta_longitude))\n",
    "    # print()\n",
    "    if west:\n",
    "        long2 = long1 - delta_longitude\n",
    "    else:\n",
    "        long2 = long1 + delta_longitude\n",
    "    lat2 = math.degrees(lat1) # doesn't change\n",
    "    long2 = math.degrees(long2)\n",
    "    return lat2, long2\n",
    "\n",
    "# given starting coordinates, distance to travel, whether moving north or south: return the coordinates of the destination\n",
    "# uses the Haversine Formula (https://en.wikipedia.org/wiki/Haversine_formula#The_haversine_formula)\n",
    "def get_second_point_moving_NS(lat1, long1, distance, south=True):\n",
    "    radius = 6371000  # radius of earth in meters\n",
    "    lat1 = math.radians(lat1)\n",
    "    long1 = math.radians(long1)\n",
    "    delta_latitude = distance/radius\n",
    "    if south:\n",
    "        lat2 = lat1 - delta_latitude\n",
    "    else:\n",
    "        lat2 = lat1 + delta_latitude\n",
    "    lat2 = math.degrees(lat2)\n",
    "    long2 = math.degrees(long1) # doesn't change\n",
    "    return lat2, long2"
   ]
  }
 ],
 "metadata": {
  "kernelspec": {
   "display_name": "Python 3",
   "language": "python",
   "name": "python3"
  },
  "language_info": {
   "codemirror_mode": {
    "name": "ipython",
    "version": 3
   },
   "file_extension": ".py",
   "mimetype": "text/x-python",
   "name": "python",
   "nbconvert_exporter": "python",
   "pygments_lexer": "ipython3",
   "version": "3.6.1"
  }
 },
 "nbformat": 4,
 "nbformat_minor": 2
}
